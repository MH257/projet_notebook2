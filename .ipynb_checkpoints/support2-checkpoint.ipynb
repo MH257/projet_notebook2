{
 "cells": [
  {
   "cell_type": "markdown",
   "id": "f7e39ec0",
   "metadata": {},
   "source": [
    "Application avec streamlit :"
   ]
  },
  {
   "cell_type": "markdown",
   "id": "ab512a76",
   "metadata": {},
   "source": [
    "#### Pandas "
   ]
  },
  {
   "cell_type": "code",
   "execution_count": null,
   "id": "276bd411",
   "metadata": {
    "vscode": {
     "languageId": "plaintext"
    }
   },
   "outputs": [],
   "source": [
    "df = pd.read_csv('data.csv')  # Charger un fichier CSV dans un DataFrame\n",
    "\n",
    "df.head()  # Affiche les 5 premières lignes du DataFrame\n",
    "\n",
    "df.describe()  #  Résumé statistique des colonnes numériques du DataFrame.\n",
    "\n",
    "df.groupby('colonne')['autre_colonne'].mean()  # Groupement de données par une ou plusieurs colonnes. Moyenne de 'autre_colonne' par 'colonne'\n"
   ]
  },
  {
   "cell_type": "markdown",
   "id": "7fb45247",
   "metadata": {},
   "source": [
    "#### Numpy "
   ]
  },
  {
   "cell_type": "code",
   "execution_count": null,
   "id": "5fccfdbe",
   "metadata": {
    "vscode": {
     "languageId": "plaintext"
    }
   },
   "outputs": [],
   "source": [
    "numeric_df = df.select_dtypes(include=[np.number])  # Sélectionner uniquement les colonnes numériques\n"
   ]
  },
  {
   "cell_type": "markdown",
   "id": "2867aef3",
   "metadata": {},
   "source": [
    "#### Matplotlib \n",
    "- (import matplotlib.pyplot as plt)\n",
    "- Utilité : matplotlib est une bibliothèque pour créer des visualisations statiques en Python."
   ]
  },
  {
   "cell_type": "code",
   "execution_count": null,
   "id": "b9313c83",
   "metadata": {
    "vscode": {
     "languageId": "plaintext"
    }
   },
   "outputs": [],
   "source": [
    "fig, ax = plt.subplots()  #  Crée une figure et un axe pour le graphique\n",
    "\n",
    "#Créer des graphiques simples en ligne.\n",
    "plt.plot(x, y)  # Tracer une courbe avec x et y\n",
    "\n",
    "plt.show()  # Affiche le graphique généré"
   ]
  },
  {
   "cell_type": "markdown",
   "id": "16602e33",
   "metadata": {},
   "source": [
    "#### Seaborn\n",
    "- (import seaborn as sns)\n",
    "- Utilité : seaborn est une bibliothèque de visualisation basée sur matplotlib qui permet de créer des visualisations plus esthétiques et de travailler plus facilement avec des DataFrames."
   ]
  },
  {
   "cell_type": "code",
   "execution_count": null,
   "id": "06797687",
   "metadata": {
    "vscode": {
     "languageId": "plaintext"
    }
   },
   "outputs": [],
   "source": [
    "#sns.heatmap() : Créer des cartes thermique\n",
    "\n",
    "sns.heatmap(correlation_matrix, annot=True, cmap='coolwarm')  # Créer une carte de chaleur pour visualiser la matrice de corrélation\n"
   ]
  },
  {
   "cell_type": "code",
   "execution_count": null,
   "id": "1e08fc21",
   "metadata": {
    "vscode": {
     "languageId": "plaintext"
    }
   },
   "outputs": [],
   "source": [
    "# sns.heatmap() : Créer des cartes thermiques.\n",
    "sns.boxplot(x='column1', y='column2', data=df)  # Créer un diagramme en boîte pour 'column2' selon 'column1'\n"
   ]
  },
  {
   "cell_type": "code",
   "execution_count": null,
   "id": "002c315e",
   "metadata": {
    "vscode": {
     "languageId": "plaintext"
    }
   },
   "outputs": [],
   "source": [
    "# sns.pairplot() : Créer une matrice de graphiques pour explorer les relations multivariées\n",
    "sns.pairplot(df)  # Créer un pairplot pour le DataFrame\n",
    "\n",
    "\n"
   ]
  },
  {
   "cell_type": "markdown",
   "id": "87143f01",
   "metadata": {},
   "source": [
    "#### Streamlit \n",
    "- (import streamlit as st)\n",
    "- Utilité : streamlit est une bibliothèque pour créer des applications web interactives facilement, principalement pour les projets de data science."
   ]
  },
  {
   "cell_type": "code",
   "execution_count": null,
   "id": "b566518b",
   "metadata": {
    "vscode": {
     "languageId": "plaintext"
    }
   },
   "outputs": [],
   "source": [
    "st.title('Mon Application de Visualisation')  # Affiche un titre\n",
    "st.write('Texte ou DataFrame à afficher')  # Affiche du texte ou un DataFrame\n",
    "st.checkbox(\"Afficher un aperçu des données\")  # Afficher une case à cocher pour l'interaction\n",
    "selected_option = st.selectbox('Choisir une option', options=['Option 1', 'Option 2'])\n",
    "st.plotly_chart(fig)  # Affiche un graphique interactif Plotly\n"
   ]
  },
  {
   "cell_type": "markdown",
   "id": "4823719d",
   "metadata": {},
   "source": [
    "#### Plotly \n",
    "- (import plotly.express as px)\n",
    "- Utilité : plotly est une bibliothèque de visualisation interactive qui permet de créer des graphiques interactifs complexes et riches."
   ]
  },
  {
   "cell_type": "code",
   "execution_count": null,
   "id": "e8f4a94e",
   "metadata": {
    "vscode": {
     "languageId": "plaintext"
    }
   },
   "outputs": [],
   "source": [
    "#px.box() : Créer un graphique en boîte interactif\n",
    "fig = px.box(df, x='job_title', y='salary_in_usd', color='experience_level')  # Créer un boxplot interactif\n",
    "\n",
    "#px.bar() : Créer un graphique en barres\n",
    "fig = px.bar(df, x='job_title', y='salary_in_usd', color='company_size')  # Créer un graphique à barres interactif\n",
    "\n",
    "\n"
   ]
  },
  {
   "cell_type": "markdown",
   "id": "4b6cbb19",
   "metadata": {},
   "source": []
  }
 ],
 "metadata": {
  "language_info": {
   "name": "python"
  }
 },
 "nbformat": 4,
 "nbformat_minor": 5
}
