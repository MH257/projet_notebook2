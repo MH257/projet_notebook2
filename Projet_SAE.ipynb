{
 "cells": [
  {
   "cell_type": "code",
   "execution_count": 1,
   "id": "c662a3d4",
   "metadata": {
    "scrolled": true
   },
   "outputs": [
    {
     "name": "stderr",
     "output_type": "stream",
     "text": [
      "C:\\Users\\e2201658\\AppData\\local\\Temp\\ipykernel_13092\\568132765.py:2: DeprecationWarning: Importing display from IPython.core.display is deprecated since IPython 7.14, please import from IPython display\n",
      "  from IPython.core.display import display, HTML\n"
     ]
    },
    {
     "data": {
      "text/html": [
       "<style>.container { width:80% !important; }</style>"
      ],
      "text/plain": [
       "<IPython.core.display.HTML object>"
      ]
     },
     "metadata": {},
     "output_type": "display_data"
    }
   ],
   "source": [
    "# pour changer la largeur de la page htlm générée par Jupyter :\n",
    "from IPython.core.display import display, HTML\n",
    "display(HTML(\"<style>.container { width:80% !important; }</style>\"))"
   ]
  },
  {
   "cell_type": "markdown",
   "id": "f6eff43d",
   "metadata": {},
   "source": [
    "# TP : Exploration et Analyse de Données avec Pandas et Streamlit\n",
    "\n",
    "## Objectif\n",
    "\n",
    "Ce projet vise à développer vos compétences en manipulation et analyse de données à l'aide de la bibliothèque Pandas en Python. Vous apprendrez à :\n",
    "\n",
    "- Importer et explorer des données provenant de Kaggle.\n",
    "- Effectuer des requêtes et manipulations de type SQL avec Pandas.\n",
    "- Créer des visualisations interactives avec Streamlit.\n",
    "\n",
    "Ce projet est noté. Tous les codes devront être écrits en Python dans des champs *jupyter* et devront respecter les conventions de nommage. L'énoncé **ne doit pas être modifié**.\n",
    "\n",
    "La derniere séance du projet, vous déposerez le fichier jupyter (projetSAE.ipynb) sur la plateforme pédagogique.\n"
   ]
  },
  {
   "cell_type": "markdown",
   "id": "3109e372",
   "metadata": {},
   "source": [
    "##### Procédure à réaliser avant les séances de TD (nous utiliserons désormais jupyter lab)\n",
    "- Lancer Anaconda Prompt sous Windows\n",
    "- Saisissez dans Anaconda Prompt : \n",
    "conda create -n projet python pandas numpy matplotlib jupyterlab kagglehub seaborn streamlit plotly\n",
    "\n",
    "=> à la demande \"Proceed ([y]/n)?\" saisissez y (ou juste pressez sur la touche \"entrée\")\n",
    "=> \"Executing transaction\" prend du temps, c'est normal\n",
    "Saisissez dans Anaconda Prompt : \n",
    "conda activate projet\n",
    "\n",
    "##### Saisissez dans Anaconda Prompt : \n",
    "jupyter lab --notebook-dir=\"h:/\"\n",
    "Ouvrir projetSAE.ipynb dans Jupyter"
   ]
  },
  {
   "cell_type": "code",
   "execution_count": 28,
   "id": "5a1b3f02",
   "metadata": {},
   "outputs": [
    {
     "name": "stdout",
     "output_type": "stream",
     "text": [
      "Note: you may need to restart the kernel to use updated packages.\n"
     ]
    },
    {
     "name": "stderr",
     "output_type": "stream",
     "text": [
      "ERROR: Could not find a version that satisfies the requirement python (from versions: none)\n",
      "ERROR: No matching distribution found for python\n"
     ]
    }
   ],
   "source": [
    "%matplotlib notebook\n",
    "%matplotlib inline\n",
    "%pip install python\n",
    "import os\n",
    "import shutil\n",
    "import pandas as pd\n",
    "import numpy as np\n",
    "import matplotlib.pyplot as plt\n",
    "\n",
    "import seaborn as sns\n",
    "import streamlit as st"
   ]
  },
  {
   "cell_type": "markdown",
   "id": "d57dab67",
   "metadata": {},
   "source": [
    "### Partie 1 : importation et exploration des données"
   ]
  },
  {
   "cell_type": "markdown",
   "id": "33235b70",
   "metadata": {},
   "source": [
    "#### Travailler avec Git\n",
    "1 - En utilisant le prompt conda : initialiser le projet \n",
    "\n",
    "2 - Ajouter le fichier Jupyter Notebook et faite votre premier commit \n",
    " \n",
    "3 -  Creer un projet sur github dépôt distant (sans README.md )\n",
    "\n",
    "4 - Pousser le projet vers ce dépôt \n",
    "\n",
    "5 - Enlever les checkpoint de jupyter "
   ]
  },
  {
   "cell_type": "markdown",
   "id": "8b18bb17",
   "metadata": {},
   "source": [
    "#### Questions\n",
    "1. Téléchargez le Dataset **Data Science Salaries 2023** sur Kaggle (https://www.kaggle.com/datasets/) via **kagglehub**.\n",
    "2. Copier le fichier du cache au répertoire du projet, décompresser et visualiser le fichier CSV **ds_salaries.csv**\n",
    "3. Importez le fichiers CSV avec Pandas."
   ]
  },
  {
   "cell_type": "markdown",
   "id": "b01f9ad7",
   "metadata": {},
   "source": [
    "##### Votre code"
   ]
  },
  {
   "cell_type": "code",
   "execution_count": 18,
   "id": "b81cdc79",
   "metadata": {},
   "outputs": [
    {
     "data": {
      "text/html": [
       "<div>\n",
       "<style scoped>\n",
       "    .dataframe tbody tr th:only-of-type {\n",
       "        vertical-align: middle;\n",
       "    }\n",
       "\n",
       "    .dataframe tbody tr th {\n",
       "        vertical-align: top;\n",
       "    }\n",
       "\n",
       "    .dataframe thead th {\n",
       "        text-align: right;\n",
       "    }\n",
       "</style>\n",
       "<table border=\"1\" class=\"dataframe\">\n",
       "  <thead>\n",
       "    <tr style=\"text-align: right;\">\n",
       "      <th></th>\n",
       "      <th>work_year</th>\n",
       "      <th>experience_level</th>\n",
       "      <th>employment_type</th>\n",
       "      <th>job_title</th>\n",
       "      <th>salary</th>\n",
       "      <th>salary_currency</th>\n",
       "      <th>salary_in_usd</th>\n",
       "      <th>employee_residence</th>\n",
       "      <th>remote_ratio</th>\n",
       "      <th>company_location</th>\n",
       "      <th>company_size</th>\n",
       "    </tr>\n",
       "  </thead>\n",
       "  <tbody>\n",
       "    <tr>\n",
       "      <th>0</th>\n",
       "      <td>2023</td>\n",
       "      <td>SE</td>\n",
       "      <td>FT</td>\n",
       "      <td>Principal Data Scientist</td>\n",
       "      <td>80000</td>\n",
       "      <td>EUR</td>\n",
       "      <td>85847</td>\n",
       "      <td>ES</td>\n",
       "      <td>100</td>\n",
       "      <td>ES</td>\n",
       "      <td>L</td>\n",
       "    </tr>\n",
       "    <tr>\n",
       "      <th>1</th>\n",
       "      <td>2023</td>\n",
       "      <td>MI</td>\n",
       "      <td>CT</td>\n",
       "      <td>ML Engineer</td>\n",
       "      <td>30000</td>\n",
       "      <td>USD</td>\n",
       "      <td>30000</td>\n",
       "      <td>US</td>\n",
       "      <td>100</td>\n",
       "      <td>US</td>\n",
       "      <td>S</td>\n",
       "    </tr>\n",
       "    <tr>\n",
       "      <th>2</th>\n",
       "      <td>2023</td>\n",
       "      <td>MI</td>\n",
       "      <td>CT</td>\n",
       "      <td>ML Engineer</td>\n",
       "      <td>25500</td>\n",
       "      <td>USD</td>\n",
       "      <td>25500</td>\n",
       "      <td>US</td>\n",
       "      <td>100</td>\n",
       "      <td>US</td>\n",
       "      <td>S</td>\n",
       "    </tr>\n",
       "    <tr>\n",
       "      <th>3</th>\n",
       "      <td>2023</td>\n",
       "      <td>SE</td>\n",
       "      <td>FT</td>\n",
       "      <td>Data Scientist</td>\n",
       "      <td>175000</td>\n",
       "      <td>USD</td>\n",
       "      <td>175000</td>\n",
       "      <td>CA</td>\n",
       "      <td>100</td>\n",
       "      <td>CA</td>\n",
       "      <td>M</td>\n",
       "    </tr>\n",
       "    <tr>\n",
       "      <th>4</th>\n",
       "      <td>2023</td>\n",
       "      <td>SE</td>\n",
       "      <td>FT</td>\n",
       "      <td>Data Scientist</td>\n",
       "      <td>120000</td>\n",
       "      <td>USD</td>\n",
       "      <td>120000</td>\n",
       "      <td>CA</td>\n",
       "      <td>100</td>\n",
       "      <td>CA</td>\n",
       "      <td>M</td>\n",
       "    </tr>\n",
       "  </tbody>\n",
       "</table>\n",
       "</div>"
      ],
      "text/plain": [
       "   work_year experience_level employment_type                 job_title  \\\n",
       "0       2023               SE              FT  Principal Data Scientist   \n",
       "1       2023               MI              CT               ML Engineer   \n",
       "2       2023               MI              CT               ML Engineer   \n",
       "3       2023               SE              FT            Data Scientist   \n",
       "4       2023               SE              FT            Data Scientist   \n",
       "\n",
       "   salary salary_currency  salary_in_usd employee_residence  remote_ratio  \\\n",
       "0   80000             EUR          85847                 ES           100   \n",
       "1   30000             USD          30000                 US           100   \n",
       "2   25500             USD          25500                 US           100   \n",
       "3  175000             USD         175000                 CA           100   \n",
       "4  120000             USD         120000                 CA           100   \n",
       "\n",
       "  company_location company_size  \n",
       "0               ES            L  \n",
       "1               US            S  \n",
       "2               US            S  \n",
       "3               CA            M  \n",
       "4               CA            M  "
      ]
     },
     "execution_count": 18,
     "metadata": {},
     "output_type": "execute_result"
    }
   ],
   "source": [
    "\n",
    "df = pd.read_csv('H:/projet_notebook/archive/ds_salaries.csv')\n",
    "df.head()"
   ]
  },
  {
   "cell_type": "markdown",
   "id": "a3c026f0",
   "metadata": {},
   "source": [
    "##### Une bonne pratique \n",
    "- Copier les données téléchargées et les coller dans le répertoire du projet.\n",
    "Pour cela, utilisez la bibliothéque os et shutil"
   ]
  },
  {
   "cell_type": "code",
   "execution_count": 13,
   "id": "ff8da337",
   "metadata": {},
   "outputs": [
    {
     "ename": "NameError",
     "evalue": "name 'project_dir' is not defined",
     "output_type": "error",
     "traceback": [
      "\u001b[1;31m---------------------------------------------------------------------------\u001b[0m",
      "\u001b[1;31mNameError\u001b[0m                                 Traceback (most recent call last)",
      "Cell \u001b[1;32mIn[13], line 5\u001b[0m\n\u001b[0;32m      1\u001b[0m \u001b[38;5;66;03m# Répertoire cible dans votre projet\u001b[39;00m\n\u001b[0;32m      2\u001b[0m \u001b[38;5;66;03m#project_dir = r\".....\"\u001b[39;00m\n\u001b[0;32m      3\u001b[0m \n\u001b[0;32m      4\u001b[0m \u001b[38;5;66;03m# Créer le répertoire (si nécessaire)\u001b[39;00m\n\u001b[1;32m----> 5\u001b[0m os\u001b[38;5;241m.\u001b[39mmakedirs(project_dir, exist_ok\u001b[38;5;241m=\u001b[39m\u001b[38;5;28;01mTrue\u001b[39;00m)\n\u001b[0;32m      7\u001b[0m \u001b[38;5;66;03m# Copier le fichier depuis le cache au répertoire du projet\u001b[39;00m\n\u001b[0;32m      8\u001b[0m \u001b[38;5;66;03m#cache_file = r\"..........ds_salaries.csv\"\u001b[39;00m\n\u001b[0;32m      9\u001b[0m shutil\u001b[38;5;241m.\u001b[39mcopy(cache_file, project_dir)\n",
      "\u001b[1;31mNameError\u001b[0m: name 'project_dir' is not defined"
     ]
    }
   ],
   "source": [
    "# Répertoire cible dans votre projet\n",
    "#project_dir = r\".....\"\n",
    "\n",
    "# Créer le répertoire (si nécessaire)\n",
    "os.makedirs(project_dir, exist_ok=True)\n",
    "\n",
    "# Copier le fichier depuis le cache au répertoire du projet\n",
    "#cache_file = r\"..........ds_salaries.csv\"\n",
    "shutil.copy(cache_file, project_dir)"
   ]
  },
  {
   "cell_type": "code",
   "execution_count": 14,
   "id": "c150ef82",
   "metadata": {},
   "outputs": [],
   "source": [
    "# Lire le fichier depuis le répertoire du projet\n"
   ]
  },
  {
   "cell_type": "markdown",
   "id": "6beae70c",
   "metadata": {},
   "source": [
    "### Partie 2 : Analyses exploratoires"
   ]
  },
  {
   "cell_type": "markdown",
   "id": "2e561960",
   "metadata": {},
   "source": [
    "#### Question 1 :\n",
    "Nous Souhaitons :\n",
    "\n",
    "1. Connaitre est ce qu'il y a des données manquantes dans notre dataset.\n",
    "2. Voir la distribution des salaires en USD avec la bibliothèque seaborn sous fome d'histogramme\n",
    "3. avoir la liste des pays concerné par l'étude \n",
    "4. connaitre les salaire moyen par rôle, par pays, par niveau d'expérience"
   ]
  },
  {
   "cell_type": "markdown",
   "id": "e3d1bfbe",
   "metadata": {},
   "source": [
    "#### Votre code"
   ]
  },
  {
   "cell_type": "code",
   "execution_count": 47,
   "id": "d25ef4a6",
   "metadata": {},
   "outputs": [
    {
     "name": "stdout",
     "output_type": "stream",
     "text": [
      "Données manquantes par colonne :\n",
      "work_year             0\n",
      "experience_level      0\n",
      "employment_type       0\n",
      "job_title             0\n",
      "salary                0\n",
      "salary_currency       0\n",
      "salary_in_usd         0\n",
      "employee_residence    0\n",
      "remote_ratio          0\n",
      "company_location      0\n",
      "company_size          0\n",
      "salary_range          0\n",
      "dtype: int64\n"
     ]
    }
   ],
   "source": [
    "#données manquantes \n",
    "missing_data = df.isnull().sum()\n",
    "\n",
    "# Afficher les résultats\n",
    "print(\"Données manquantes par colonne :\")\n",
    "print(missing_data)"
   ]
  },
  {
   "cell_type": "markdown",
   "id": "e3c21eda-01f1-4f79-8622-2684b43b6ef4",
   "metadata": {},
   "source": [
    "Aucune valeur manquante n'apparait"
   ]
  },
  {
   "cell_type": "code",
   "execution_count": 50,
   "id": "1be28b55",
   "metadata": {},
   "outputs": [
    {
     "name": "stderr",
     "output_type": "stream",
     "text": [
      "C:\\ProgramData\\anaconda3\\Lib\\site-packages\\seaborn\\_oldcore.py:1119: FutureWarning: use_inf_as_na option is deprecated and will be removed in a future version. Convert inf values to NaN before operating instead.\n",
      "  with pd.option_context('mode.use_inf_as_na', True):\n"
     ]
    },
    {
     "data": {
      "image/png": "[encoded data removed]",
      "text/plain": [
       "<Figure size 640x480 with 1 Axes>"
      ]
     },
     "metadata": {},
     "output_type": "display_data"
    }
   ],
   "source": [
    "# Distribution des salaires en USD\n",
    "sns.histplot(df['salary_in_usd'], kde=True, color='blue', bins=30)\n",
    "plt.show()"
   ]
  },
  {
   "cell_type": "markdown",
   "id": "c0606b6a-4467-45b1-8b93-a9390fea95c9",
   "metadata": {},
   "source": [
    "Le pic de répartition des salaires se trouve aux alentours de 150 000 USD"
   ]
  },
  {
   "cell_type": "code",
   "execution_count": 20,
   "id": "59ab1534",
   "metadata": {},
   "outputs": [
    {
     "name": "stdout",
     "output_type": "stream",
     "text": [
      "Liste des pays concernés par l'étude :\n",
      "['ES' 'US' 'CA' 'DE' 'GB' 'NG' 'IN' 'HK' 'PT' 'NL' 'CH' 'CF' 'FR' 'AU'\n",
      " 'FI' 'UA' 'IE' 'IL' 'GH' 'AT' 'CO' 'SG' 'SE' 'SI' 'MX' 'UZ' 'BR' 'TH'\n",
      " 'HR' 'PL' 'KW' 'VN' 'CY' 'AR' 'AM' 'BA' 'KE' 'GR' 'MK' 'LV' 'RO' 'PK'\n",
      " 'IT' 'MA' 'LT' 'BE' 'AS' 'IR' 'HU' 'SK' 'CN' 'CZ' 'CR' 'TR' 'CL' 'PR'\n",
      " 'DK' 'BO' 'PH' 'DO' 'EG' 'ID' 'AE' 'MY' 'JP' 'EE' 'HN' 'TN' 'RU' 'DZ'\n",
      " 'IQ' 'BG' 'JE' 'RS' 'NZ' 'MD' 'LU' 'MT']\n"
     ]
    }
   ],
   "source": [
    "# liste des pays concerné par l'étude \n",
    "\n",
    "countries = df['employee_residence'].unique()\n",
    "\n",
    "# Afficher la liste des pays\n",
    "print(\"Liste des pays concernés par l'étude :\")\n",
    "print(countries)\n"
   ]
  },
  {
   "cell_type": "code",
   "execution_count": 22,
   "id": "fa1ccca8",
   "metadata": {},
   "outputs": [
    {
     "name": "stdout",
     "output_type": "stream",
     "text": [
      "Salaire moyen par rôle :\n",
      "job_title\n",
      "3D Computer Vision Researcher     21352.250000\n",
      "AI Developer                     136666.090909\n",
      "AI Programmer                     55000.000000\n",
      "AI Scientist                     110120.875000\n",
      "Analytics Engineer               152368.631068\n",
      "                                     ...      \n",
      "Research Engineer                163108.378378\n",
      "Research Scientist               161214.195122\n",
      "Software Data Engineer            62510.000000\n",
      "Staff Data Analyst                15000.000000\n",
      "Staff Data Scientist             105000.000000\n",
      "Name: salary_in_usd, Length: 93, dtype: float64\n",
      "Salaire moyen par pays :\n",
      "employee_residence\n",
      "AE    100000.000000\n",
      "AM     50000.000000\n",
      "AR     35500.000000\n",
      "AS     32777.500000\n",
      "AT     71125.833333\n",
      "          ...      \n",
      "TR     19058.000000\n",
      "UA     57850.000000\n",
      "US    152822.011651\n",
      "UZ    103000.000000\n",
      "VN     33466.666667\n",
      "Name: salary_in_usd, Length: 78, dtype: float64\n",
      "Salaire moyen par niveau d'expérience :\n",
      "experience_level\n",
      "EN     78546.284375\n",
      "EX    194930.929825\n",
      "MI    104525.939130\n",
      "SE    153051.071542\n",
      "Name: salary_in_usd, dtype: float64\n"
     ]
    }
   ],
   "source": [
    "# Salaire moyen par rôle\n",
    "average_salary_role = df.groupby('job_title')['salary_in_usd'].mean()\n",
    "\n",
    "# Afficher les résultats\n",
    "print(\"Salaire moyen par rôle :\")\n",
    "print(average_salary_role)\n",
    "\n",
    "# Salaire moyen par pays\n",
    "average_salary_country = df.groupby('employee_residence')['salary_in_usd'].mean()\n",
    "\n",
    "# Afficher les résultats\n",
    "print(\"Salaire moyen par pays :\")\n",
    "print(average_salary_country)\n",
    "\n",
    "# Salaire moyen par niveau d'expérience\n",
    "average_salary_experience = df.groupby('experience_level')['salary_in_usd'].mean()\n",
    "\n",
    "# Afficher les résultats\n",
    "print(\"Salaire moyen par niveau d'expérience :\")\n",
    "print(average_salary_experience)\n",
    "\n"
   ]
  },
  {
   "cell_type": "markdown",
   "id": "5fed3aef",
   "metadata": {},
   "source": [
    "#### Question 2 :\n",
    "Nous Souhaitons :\n",
    "\n",
    "1. Filtrer les salaires pour un pays donné (ex : US)\n",
    "2. Connaitre les top 5 des entreprises qui paient le plus\n",
    "\n",
    "3. Filtrage et agrégation:\n",
    "    - Afficher tous les employés dont le salaire est supérieur à 100 000 USD, ainsi que leur rôle.\n",
    "    - Pays avec la plus forte proportion de télétravail (remote_ratio = 100)\n",
    "       \n",
    "4. Requêtes conditionnelles: \n",
    "    - Salaire moyen des employés à distance (100%)\n",
    "    - Comparer salaires moyens pour deux catégories\n",
    "        \n",
    "5. Ajouter une colonne pour les fourchettes de salaires\n",
    "6. Corrélations : Relation entre télétravail et salaire: \n",
    " -\n",
    "7. Salaire moyen par taille d'entreprise \n",
    "8. faire un tableau croisé : Moyenne des salaires par niveau d'expérience et télétravail"
   ]
  },
  {
   "cell_type": "code",
   "execution_count": 24,
   "id": "057e12e8",
   "metadata": {},
   "outputs": [
    {
     "name": "stdout",
     "output_type": "stream",
     "text": [
      "Données pour les États-Unis (US) :\n",
      "                     job_title  salary_in_usd\n",
      "1                  ML Engineer          30000\n",
      "2                  ML Engineer          25500\n",
      "5            Applied Scientist         222200\n",
      "6            Applied Scientist         136000\n",
      "9               Data Scientist         147100\n",
      "...                        ...            ...\n",
      "3749           Data Specialist         165000\n",
      "3750            Data Scientist         412000\n",
      "3751  Principal Data Scientist         151000\n",
      "3752            Data Scientist         105000\n",
      "3753     Business Data Analyst         100000\n",
      "\n",
      "[3004 rows x 2 columns]\n"
     ]
    }
   ],
   "source": [
    "# Filtrer les salaires pour un pays donné (ex : US)\n",
    "\n",
    "country_filtered = df[df['employee_residence'] == 'US']\n",
    "\n",
    "# Afficher les résultats filtrés\n",
    "print(\"Données pour les États-Unis (US) :\")\n",
    "print(country_filtered[['job_title', 'salary_in_usd']])\n",
    "\n"
   ]
  },
  {
   "cell_type": "code",
   "execution_count": 51,
   "id": "6be2ec47",
   "metadata": {},
   "outputs": [
    {
     "name": "stdout",
     "output_type": "stream",
     "text": [
      "Top 5 des entreprises qui paient le plus :\n",
      "company_location\n",
      "IL    271446.500000\n",
      "PR    167500.000000\n",
      "US    151822.009539\n",
      "RU    140333.333333\n",
      "CA    131917.689655\n",
      "Name: salary_in_usd, dtype: float64\n"
     ]
    }
   ],
   "source": [
    "# Top 5 des entreprises qui paient le plus\n",
    "\n",
    "top_5_companies = df.groupby('company_location')['salary_in_usd'].mean().sort_values(ascending=False).head(5)\n",
    "\n",
    "# Afficher les résultats\n",
    "print(\"Top 5 des entreprises qui paient le plus :\")\n",
    "print(top_5_companies)\n"
   ]
  },
  {
   "cell_type": "markdown",
   "id": "4b18c09c-79f3-43b7-89fc-8ec44f1480ec",
   "metadata": {},
   "source": [
    "L'équart entre la première et la deuxieme entreprise est bien plus important que l'écart entre les suivant.\n",
    "A titre de comparaison, l'équart entre les deux premiers est plus de trois fois supérieurs à l'équart entre le deuxième et le cinquième"
   ]
  },
  {
   "cell_type": "code",
   "execution_count": 27,
   "id": "10d4d3d4",
   "metadata": {},
   "outputs": [
    {
     "name": "stdout",
     "output_type": "stream",
     "text": [
      "Rôles avec un salaire moyen supérieur à 100,000 USD :\n",
      "job_title\n",
      "AI Developer                                136666.090909\n",
      "AI Scientist                                110120.875000\n",
      "Analytics Engineer                          152368.631068\n",
      "Applied Data Scientist                      113726.300000\n",
      "Applied Machine Learning Scientist          109452.833333\n",
      "Applied Scientist                           190264.482759\n",
      "BI Analyst                                  104888.888889\n",
      "BI Developer                                129846.153846\n",
      "Big Data Architect                          125802.500000\n",
      "Business Intelligence Engineer              174150.000000\n",
      "Cloud Data Architect                        250000.000000\n",
      "Cloud Database Engineer                     155000.000000\n",
      "Computer Vision Engineer                    143536.111111\n",
      "Data Analyst                                108716.227124\n",
      "Data Analytics Lead                         211254.500000\n",
      "Data Analytics Manager                      141879.090909\n",
      "Data Architect                              161713.772277\n",
      "Data Engineer                               142785.734615\n",
      "Data Infrastructure Engineer                175051.666667\n",
      "Data Lead                                   212500.000000\n",
      "Data Manager                                116613.344828\n",
      "Data Modeler                                118900.000000\n",
      "Data Science Lead                           156334.375000\n",
      "Data Science Manager                        191278.775862\n",
      "Data Science Tech Lead                      375000.000000\n",
      "Data Scientist                              140869.765476\n",
      "Data Scientist Lead                         136153.000000\n",
      "Data Specialist                             119642.857143\n",
      "Deep Learning Engineer                      109241.000000\n",
      "Deep Learning Researcher                    123405.000000\n",
      "Director of Data Science                    195140.727273\n",
      "ETL Developer                               131453.600000\n",
      "Financial Data Analyst                      101666.666667\n",
      "Head of Data                                183857.500000\n",
      "Head of Data Science                        160591.666667\n",
      "Lead Data Engineer                          139230.333333\n",
      "Lead Data Scientist                         112775.555556\n",
      "ML Engineer                                 158352.441176\n",
      "MLOps Engineer                              129000.000000\n",
      "Machine Learning Engineer                   154690.726644\n",
      "Machine Learning Infrastructure Engineer    143011.818182\n",
      "Machine Learning Manager                    155701.333333\n",
      "Machine Learning Researcher                 105872.666667\n",
      "Machine Learning Scientist                  163220.076923\n",
      "Machine Learning Software Engineer          192420.000000\n",
      "Manager Data Management                     125000.000000\n",
      "Marketing Data Analyst                      144327.000000\n",
      "NLP Engineer                                132785.285714\n",
      "Principal Data Analyst                      122500.000000\n",
      "Principal Data Engineer                     192500.000000\n",
      "Principal Data Scientist                    198171.125000\n",
      "Principal Machine Learning Engineer         190000.000000\n",
      "Research Engineer                           163108.378378\n",
      "Research Scientist                          161214.195122\n",
      "Staff Data Scientist                        105000.000000\n",
      "Name: salary_in_usd, dtype: float64\n",
      "Proportion de télétravail à 100% par pays :\n",
      "company_location\n",
      "US    1331\n",
      "GB      65\n",
      "CA      46\n",
      "IN      30\n",
      "DE      25\n",
      "ES      23\n",
      "BR      13\n",
      "FR      12\n",
      "GR      10\n",
      "MX       9\n",
      "AU       7\n",
      "NL       6\n",
      "NG       5\n",
      "PL       5\n",
      "PT       4\n",
      "PR       4\n",
      "AR       3\n",
      "SI       3\n",
      "IE       3\n",
      "CZ       2\n",
      "LU       2\n",
      "AE       2\n",
      "BE       2\n",
      "AS       2\n",
      "CF       2\n",
      "CH       2\n",
      "SG       2\n",
      "KE       2\n",
      "IR       1\n",
      "PK       1\n",
      "HR       1\n",
      "JP       1\n",
      "CL       1\n",
      "TR       1\n",
      "DK       1\n",
      "UA       1\n",
      "EE       1\n",
      "MY       1\n",
      "EG       1\n",
      "HU       1\n",
      "ID       1\n",
      "PH       1\n",
      "SE       1\n",
      "TH       1\n",
      "CO       1\n",
      "FI       1\n",
      "CR       1\n",
      "SK       1\n",
      "IL       1\n",
      "Name: count, dtype: int64\n"
     ]
    }
   ],
   "source": [
    "# Filtrer les données\n",
    "# Rôles avec un salaire moyen supérieur à 100,000\n",
    "\n",
    "average_salary_role = df.groupby('job_title')['salary_in_usd'].mean()\n",
    "\n",
    "# Filtrer les rôles avec un salaire moyen supérieur à 100,000 USD\n",
    "roles_above_100k = average_salary_role[average_salary_role > 100000]\n",
    "\n",
    "# Afficher les résultats\n",
    "print(\"Rôles avec un salaire moyen supérieur à 100,000 USD :\")\n",
    "print(roles_above_100k)\n",
    "\n",
    "\n",
    "# Pays avec la plus forte proportion de télétravail (remote_ratio = 100)\n",
    "\n",
    "remote_100 = df[df['remote_ratio'] == 100]\n",
    "\n",
    "# Compter la proportion de télétravail (remote_ratio = 100) par pays\n",
    "remote_100_by_country = remote_100['company_location'].value_counts()\n",
    "\n",
    "# Afficher les résultats\n",
    "print(\"Proportion de télétravail à 100% par pays :\")\n",
    "print(remote_100_by_country)\n"
   ]
  },
  {
   "cell_type": "code",
   "execution_count": 34,
   "id": "3d3e19de",
   "metadata": {},
   "outputs": [
    {
     "name": "stdout",
     "output_type": "stream",
     "text": [
      "Salaire moyen des employés à distance (remote_ratio = 100%) : 136481.45 USD\n",
      "Salaire moyen des employés non à distance (remote_ratio != 100%) : 138417.51 USD\n"
     ]
    }
   ],
   "source": [
    "# Requêtes conditionnelles\n",
    "# Salaire moyen des employés à distance (100%)\n",
    "# Filtrer les données pour les employés à distance (remote_ratio = 100)\n",
    "remote_100_salary = df[df['remote_ratio'] == 100]['salary_in_usd'].mean()\n",
    "\n",
    "# Afficher le salaire moyen des employés à distance\n",
    "print(f\"Salaire moyen des employés à distance (remote_ratio = 100%) : {remote_100_salary:.2f} USD\")\n",
    "\n",
    "# Comparer salaires moyens pour deux catégories\n",
    "\n",
    "\n",
    "\n",
    "# Afficher les résultats de comparaison\n",
    "\n",
    "print(f\"Salaire moyen des employés non à distance (remote_ratio != 100%) : {remote_non_100_salary:.2f} USD\")\n"
   ]
  },
  {
   "cell_type": "code",
   "execution_count": 46,
   "id": "7d72271b",
   "metadata": {},
   "outputs": [
    {
     "name": "stdout",
     "output_type": "stream",
     "text": [
      "    salary_in_usd salary_range\n",
      "0           85847      Moyenne\n",
      "1           30000       Faible\n",
      "2           25500       Faible\n",
      "3          175000  Très élevée\n",
      "4          120000        Haute\n",
      "5          222200  Très élevée\n",
      "6          136000        Haute\n",
      "7          219000  Très élevée\n",
      "8          141000        Haute\n",
      "9          147100        Haute\n",
      "10          90700      Moyenne\n",
      "11         130000        Haute\n",
      "12         100000        Haute\n",
      "13         213660  Très élevée\n",
      "14         130760        Haute\n",
      "15         147100        Haute\n",
      "16          90700      Moyenne\n",
      "17         170000  Très élevée\n",
      "18         150000  Très élevée\n",
      "19         150000  Très élevée\n"
     ]
    }
   ],
   "source": [
    "# Ajouter une colonne pour les fourchettes de salaires\n",
    "def salary_range(salary):\n",
    "    if salary < 50000:\n",
    "        return 'Faible'\n",
    "    elif 50000 <= salary < 100000:\n",
    "        return 'Moyenne'\n",
    "    elif 100000 <= salary < 150000:\n",
    "        return 'Haute'\n",
    "    else:\n",
    "        return 'Très élevée'\n",
    "\n",
    "# Appliquer la fonction à la colonne salary_in_usd et ajouter la nouvelle colonne 'salary_range'\n",
    "df['salary_range'] = df['salary_in_usd'].apply(salary_range)\n",
    "\n",
    "# Afficher les premières lignes du DataFrame pour vérifier\n",
    "print(df[['salary_in_usd', 'salary_range']].head(20))\n",
    "\n"
   ]
  },
  {
   "cell_type": "code",
   "execution_count": 52,
   "id": "08ebd32f",
   "metadata": {},
   "outputs": [
    {
     "name": "stdout",
     "output_type": "stream",
     "text": [
      "Salaire moyen par niveau de télétravail (remote_ratio) :\n",
      "remote_ratio\n",
      "0      144316.202288\n",
      "50      78400.687831\n",
      "100    136481.452830\n",
      "Name: salary_in_usd, dtype: float64\n"
     ]
    },
    {
     "data": {
      "image/png": "[encoded data removed]",
      "text/plain": [
       "<Figure size 1000x600 with 1 Axes>"
      ]
     },
     "metadata": {},
     "output_type": "display_data"
    }
   ],
   "source": [
    "# Analyse des corrélations\n",
    "\n",
    "# Calculer le salaire moyen par niveau de télétravail (remote_ratio)\n",
    "salary_by_remote = df.groupby('remote_ratio')['salary_in_usd'].mean()\n",
    "\n",
    "# Afficher les résultats\n",
    "print(\"Salaire moyen par niveau de télétravail (remote_ratio) :\")\n",
    "print(salary_by_remote)\n",
    "\n",
    "# Relation entre télétravail et salaire\n",
    "# Visualisation avec seaborn\n",
    "plt.figure(figsize=(10, 6))\n",
    "sns.barplot(x=salary_by_remote.index, y=salary_by_remote.values, palette=\"Blues_d\")\n",
    "plt.title(\"Relation entre télétravail (remote_ratio) et salaire moyen\")\n",
    "plt.xlabel(\"Ratio de télétravail (%)\")\n",
    "plt.ylabel(\"Salaire moyen (USD)\")\n",
    "plt.show()\n"
   ]
  },
  {
   "cell_type": "markdown",
   "id": "6581c8bd-15ff-4101-990b-55576136728e",
   "metadata": {},
   "source": [
    "On remarque une grande différence entre ceux qui ont 50% de télétravail et ceux qui, n'ont pas de télétravail ou uniquement du télétravail."
   ]
  },
  {
   "cell_type": "code",
   "execution_count": 53,
   "id": "a024d154",
   "metadata": {},
   "outputs": [
    {
     "name": "stdout",
     "output_type": "stream",
     "text": [
      "Salaire moyen par taille d'entreprise :\n",
      "company_size\n",
      "L    118300.982379\n",
      "M    143130.548367\n",
      "S     78226.682432\n",
      "Name: salary_in_usd, dtype: float64\n"
     ]
    }
   ],
   "source": [
    "# Salaire moyen par taille d'entreprise\n",
    "# Calculer le salaire moyen par taille d'entreprise\n",
    "salary_by_company_size = df.groupby('company_size')['salary_in_usd'].mean()\n",
    "\n",
    "# Afficher les résultats\n",
    "print(\"Salaire moyen par taille d'entreprise :\")\n",
    "print(salary_by_company_size)\n"
   ]
  },
  {
   "cell_type": "markdown",
   "id": "9807d9e0-ddaf-4d4c-a1c9-8650b9c2162b",
   "metadata": {},
   "source": [
    "Ce sont les entreprises de taille moyenne qui ont la moyenne de rémunération la plus haute"
   ]
  },
  {
   "cell_type": "code",
   "execution_count": 54,
   "id": "b167d883",
   "metadata": {},
   "outputs": [
    {
     "name": "stdout",
     "output_type": "stream",
     "text": [
      "Tableau croisé des salaires par niveau d'expérience et télétravail :\n",
      "remote_ratio                0              50             100\n",
      "experience_level                                             \n",
      "EN                104581.765766   64006.230769   65040.486111\n",
      "EX                182435.785714  139030.166667  214837.326923\n",
      "MI                116723.103535   74214.405405   96803.480597\n",
      "SE                154024.064706   98438.136364  154022.023381\n"
     ]
    }
   ],
   "source": [
    "# Calculer la moyenne des salaires par niveau d'expérience et télétravail\n",
    "pivot_table = df.pivot_table(\n",
    "    index='experience_level',  # Niveau d'expérience\n",
    "    columns='remote_ratio',     # Télétravail (remote_ratio)\n",
    "    values='salary_in_usd',     # Salaire\n",
    "    aggfunc='mean'              # Fonction d'agrégation (moyenne)\n",
    ")\n",
    "\n",
    "# Afficher le tableau croisé\n",
    "print(\"Tableau croisé des salaires par niveau d'expérience et télétravail :\")\n",
    "print(pivot_table)\n"
   ]
  },
  {
   "cell_type": "markdown",
   "id": "477cf773-c65d-4712-bb45-7c282780ebbc",
   "metadata": {},
   "source": [
    "La moyenne de salaire la plus haute est concerné par des individus EX, 100% en télétravail."
   ]
  }
 ],
 "metadata": {
  "kernelspec": {
   "display_name": "Python 3 (ipykernel)",
   "language": "python",
   "name": "python3"
  },
  "language_info": {
   "codemirror_mode": {
    "name": "ipython",
    "version": 3
   },
   "file_extension": ".py",
   "mimetype": "text/x-python",
   "name": "python",
   "nbconvert_exporter": "python",
   "pygments_lexer": "ipython3",
   "version": "3.11.7"
  }
 },
 "nbformat": 4,
 "nbformat_minor": 5
}
